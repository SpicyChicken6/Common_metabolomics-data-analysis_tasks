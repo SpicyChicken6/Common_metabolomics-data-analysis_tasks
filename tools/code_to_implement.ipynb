{
 "cells": [
  {
   "cell_type": "code",
   "execution_count": null,
   "metadata": {},
   "outputs": [],
   "source": [
    "##This file contains definitions of functions to be implemented for this project"
   ]
  },
  {
   "cell_type": "code",
   "execution_count": 1,
   "metadata": {},
   "outputs": [],
   "source": [
    "import numpy as np\n",
    "import pandas as pd\n",
    "import os\n",
    "from pathlib import Path\n",
    "from sklearn.decomposition import PCA\n",
    "import matplotlib.pyplot as plt\n"
   ]
  },
  {
   "cell_type": "code",
   "execution_count": 2,
   "metadata": {},
   "outputs": [],
   "source": [
    "#data reading\n",
    "def read_data(filename=\"human_cachexia.csv\"):\n",
    "    \"\"\"\n",
    "    Read the data from the data folder and return a pandas dataframe\n",
    "\n",
    "    Args:\n",
    "        filename (str, optional): Name of the file to read. Defaults to \"human_cachexia.csv\".\n",
    "\n",
    "    Returns:\n",
    "        pandas.DataFrame: Dataframe containing the data\n",
    "    \"\"\"\n",
    "\n",
    "    tool_directory=Path.cwd()\n",
    "    project_directory=os.path.dirname(tool_directory)\n",
    "    data_directory=os.path.join(project_directory,'resources','test_dataset',filename)\n",
    "    input_data=pd.read_csv(data_directory)\n",
    "    print(\"data read successfully, the shape of the dataframe is: \", input_data.shape)\n",
    "\n",
    "    return input_data"
   ]
  },
  {
   "cell_type": "code",
   "execution_count": null,
   "metadata": {},
   "outputs": [],
   "source": [
    "##normalization methods\n",
    "\n",
    "def normalize_by_sum(input_data):\n",
    "    '''\n",
    "    Normalize the data by dividing each column by the sum of the row\n",
    "\n",
    "    Args:\n",
    "        input_data (pandas.DataFrame): Dataframe containing the data\n",
    "\n",
    "    Returns:\n",
    "        pandas.DataFrame: Normalized dataframe\n",
    "    '''\n",
    "    data_to_process=input_data.iloc[:,2:]\n",
    "    normalized_data=data_to_process.div(data_to_process.sum(axis=0), axis=1)\n",
    "    normed_data=input_data.copy\n",
    "    normed_data.iloc[:,2:]=normalized_data\n",
    "    \n",
    "    return normed_data\n"
   ]
  },
  {
   "cell_type": "code",
   "execution_count": null,
   "metadata": {},
   "outputs": [],
   "source": [
    "\n",
    "def normalize_by_median(input_data):\n",
    "    '''\n",
    "    Normalize the data by dividing each column by the median of the row\n",
    "\n",
    "    Args:\n",
    "        input_data (pandas.DataFrame): Dataframe containing the data\n",
    "\n",
    "    Returns:\n",
    "        pandas.DataFrame: Normalized dataframe\n",
    "    '''\n",
    "\n",
    "    data_to_process=input_data.iloc[:,2:]\n",
    "    normalized_data=data_to_process.div(data_to_process.median(axis=0), axis=1)\n",
    "    normed_data=input_data.copy\n",
    "    normed_data.iloc[:,2:]=normalized_data\n",
    "\n",
    "    return normed_data\n"
   ]
  },
  {
   "cell_type": "code",
   "execution_count": null,
   "metadata": {},
   "outputs": [],
   "source": [
    "\n",
    "def normalize_by_reference_sample_PQN(input_data):\n",
    "    '''\n",
    "    Normalize the data by dividing each column by the PQN of the reference sample. \n",
    "    PQN has been shown to be effective at normalizing data from different platforms and technologies, \n",
    "    and can reduce batch effects and other systematic variations in data. However, \n",
    "    PQN assumes that most genes or proteins are not differentially expressed, which may not be true in all cases. \n",
    "    Additionally, PQN may not be appropriate for all types of data, \n",
    "    and other normalization methods may be more appropriate \n",
    "    depending on the specific research question and experimental design.\n",
    "\n",
    "    Args:\n",
    "        input_data (pandas.DataFrame): Dataframe containing the data\n",
    "\n",
    "    Returns:\n",
    "        pandas.DataFrame: Normalized dataframe\n",
    "\n",
    "    '''\n",
    "    data_to_process=input_data.iloc[:,2:]\n",
    "    sample_medians = data_to_process.median(axis=0)\n",
    "    data_norm = data_to_process.div(sample_medians, axis=1)\n",
    "    metabolite_means = np.exp(np.log(data_norm).mean(axis=1))\n",
    "    data_norm = data_norm.div(metabolite_means, axis=0)\n",
    "    col_medians = data_norm.median(axis=0)\n",
    "    data_norm = data_norm.div(col_medians, axis=1)\n",
    "    normed_data=input_data.copy\n",
    "    normed_data.iloc[:,2:]=data_norm\n",
    "\n",
    "    return normed_data\n",
    "    "
   ]
  },
  {
   "cell_type": "code",
   "execution_count": null,
   "metadata": {},
   "outputs": [],
   "source": [
    "def data_transformation_log(input_data):\n",
    "    '''\n",
    "    Transform the data by taking the log10 of each value\n",
    "\n",
    "    Args:\n",
    "        input_data (pandas.DataFrame): Dataframe containing the data\n",
    "\n",
    "    Returns:\n",
    "        pandas.DataFrame: Transformed dataframe\n",
    "    '''\n",
    "\n",
    "    data_to_process=input_data.iloc[:,2:]\n",
    "    data_log10 = data_to_process.apply(np.log10)\n",
    "    transformed_data=input_data.copy\n",
    "    transformed_data.iloc[:,2:]=data_log10\n",
    "    \n",
    "    return transformed_data\n"
   ]
  },
  {
   "cell_type": "code",
   "execution_count": null,
   "metadata": {},
   "outputs": [],
   "source": [
    "def data_scaling_mean_centered(input_data):\n",
    "    '''\n",
    "    Scale the data by subtracting the mean of each column from each value in the column\n",
    "\n",
    "    Args:\n",
    "        input_data (pandas.DataFrame): Dataframe containing the data\n",
    "\n",
    "    Returns:    \n",
    "        pandas.DataFrame: Scaled dataframe\n",
    "    '''\n",
    "\n",
    "    data_scaled = input_data.subtract(input_data.mean(axis=0), axis=1)\n",
    "    scaled_data=input_data.copy\n",
    "    scaled_data.iloc[:,2:]=data_scaled\n",
    "\n",
    "    return scaled_data\n"
   ]
  },
  {
   "cell_type": "code",
   "execution_count": null,
   "metadata": {},
   "outputs": [],
   "source": [
    "def PCA_analysis(input_data, number_of_components=2):\n",
    "    '''\n",
    "    Perform PCA analysis on the data\n",
    "    \n",
    "    Args:\n",
    "        input_data (pandas.DataFrame): Dataframe containing the data\n",
    "        number_of_components (int, optional): Number of principal components to return. Defaults to 2.\n",
    "\n",
    "    Returns:\n",
    "        pandas.DataFrame: Dataframe containing the principal components\n",
    "    '''\n",
    "\n",
    "    # Load data into a Pandas DataFrame\n",
    "\n",
    "    # Initialize PCA object with desired number of components\n",
    "    pca = PCA(n_components=number_of_components)\n",
    "\n",
    "    # Fit the PCA model to the data\n",
    "    pca.fit(input_data)\n",
    "\n",
    "    # Transform the data to the new coordinate system defined by the principal components\n",
    "    data_pca = pca.transform(input_data)\n",
    "\n",
    "    # Create a new DataFrame with the principal components\n",
    "    df_pca = pd.DataFrame(data=data_pca, columns=['PC1', 'PC2'])\n",
    "\n",
    "    return df_pca"
   ]
  },
  {
   "cell_type": "code",
   "execution_count": null,
   "metadata": {},
   "outputs": [],
   "source": [
    "def PCA_plot(df_pca):\n",
    "    '''\n",
    "    Plot the PCA analysis results\n",
    "\n",
    "    Returns:\n",
    "        matplotlib.pyplot: Plot of the PCA analysis results\n",
    "    '''\n",
    "\n",
    "    # Plot the principal components\n",
    "    plt.scatter(df_pca['PC1'], df_pca['PC2'])\n",
    "    plt.xlabel('PC1')\n",
    "    plt.ylabel('PC2')\n",
    "    plt.show()\n",
    "\n",
    "    return plt"
   ]
  },
  {
   "cell_type": "code",
   "execution_count": null,
   "metadata": {},
   "outputs": [],
   "source": [
    "######################33"
   ]
  },
  {
   "cell_type": "code",
   "execution_count": null,
   "metadata": {},
   "outputs": [],
   "source": [
    "## to be implemented\n",
    "def MA_plot():\n",
    "    return None"
   ]
  },
  {
   "cell_type": "code",
   "execution_count": null,
   "metadata": {},
   "outputs": [],
   "source": [
    "##interface for user to select the normalization method and data transformation method\n",
    "def user_interface():\n",
    "    return None"
   ]
  }
 ],
 "metadata": {
  "kernelspec": {
   "display_name": "base",
   "language": "python",
   "name": "python3"
  },
  "language_info": {
   "codemirror_mode": {
    "name": "ipython",
    "version": 3
   },
   "file_extension": ".py",
   "mimetype": "text/x-python",
   "name": "python",
   "nbconvert_exporter": "python",
   "pygments_lexer": "ipython3",
   "version": "3.9.13"
  },
  "orig_nbformat": 4,
  "vscode": {
   "interpreter": {
    "hash": "40d3a090f54c6569ab1632332b64b2c03c39dcf918b08424e98f38b5ae0af88f"
   }
  }
 },
 "nbformat": 4,
 "nbformat_minor": 2
}
